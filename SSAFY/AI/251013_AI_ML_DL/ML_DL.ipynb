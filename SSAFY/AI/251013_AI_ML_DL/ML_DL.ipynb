{
 "cells": [
  {
   "cell_type": "markdown",
   "id": "e2c22ac1",
   "metadata": {},
   "source": [
    "# AI & 기계학습 기초 1\n",
    "##### AI와 ML은 무엇인가?\n",
    "\n",
    "> CONTENTS\n",
    "1. AI, ML, DL의 정의\n",
    "2. 데이터와 학습의 이해\n",
    "  1. 데이터 구성 요소(Feature/Label)\n",
    "  2. ML 실생활 예시\n",
    "3. 단일 피쳐 기반 학습\n",
    "  1. 1D 피쳐 기반 학습\n",
    "  2. 모델과 가설공간\n",
    "  3. 학습이란\n",
    "4. 복수 피쳐 기반 학습\n",
    "  1. 2D 피쳐 기반 학습\n",
    "  2. 일반적 용어 정리 및 모델 가정\n",
    "  3. 왜 $f(X)$를 학습하는가?"
   ]
  },
  {
   "cell_type": "markdown",
   "id": "21584f77",
   "metadata": {},
   "source": []
  }
 ],
 "metadata": {
  "language_info": {
   "name": "python"
  }
 },
 "nbformat": 4,
 "nbformat_minor": 5
}
