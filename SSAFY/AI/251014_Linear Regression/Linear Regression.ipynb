{
 "cells": [
  {
   "cell_type": "markdown",
   "id": "9aef2d69",
   "metadata": {},
   "source": [
    "# AI & 기계학습 방법론 1\n",
    "##### 선형회귀(Linear Regression)\n",
    "> CONTENTS\n",
    "1. 선형회귀: 입력과 출력의 선형 관계를 찾는 방법\n",
    "2. 단순선형회귀: 하나의 입력 변수로 출력 예측하기\n",
    "3. 다중선형회귀: 여러 입력 변수를 활용한 예측\n",
    "4. 선형회귀 주의사항: 변수 상관(다중공선성), 상관과 인과 구분\n",
    "\n",
    "<br>\n",
    "\n",
    "> 학습 목표\n",
    "- 선형회귀의 핵심 개념 이해: 입력-출력의 선형 관계, 단순선형회귀 이해\n",
    "- 모델 적합: 잔차제곱합(RSS)과 최소 제공 이해\n",
    "- 다중선형회귀로 확장한 학습 방법 이해"
   ]
  },
  {
   "cell_type": "markdown",
   "id": "5b113e16",
   "metadata": {},
   "source": []
  }
 ],
 "metadata": {
  "language_info": {
   "name": "python"
  }
 },
 "nbformat": 4,
 "nbformat_minor": 5
}
